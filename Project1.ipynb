{
 "cells": [
  {
   "cell_type": "markdown",
   "id": "3278aa15",
   "metadata": {},
   "source": [
    "## Project 1\n",
    "\n",
    "Begin by importing pandas and NumPy:"
   ]
  },
  {
   "cell_type": "code",
   "execution_count": 4,
   "id": "b2a4ee2e",
   "metadata": {},
   "outputs": [],
   "source": [
    "import pandas as pd\n",
    "import numpy as np"
   ]
  },
  {
   "cell_type": "markdown",
   "id": "2165e098",
   "metadata": {},
   "source": [
    "In this project we will be comparing flight delays across a selection of airports.\n",
    "This data is contained in a .csv file, so we will need to read it into pandas:"
   ]
  },
  {
   "cell_type": "code",
   "execution_count": 11,
   "id": "86e17655",
   "metadata": {},
   "outputs": [
    {
     "data": {
      "text/html": [
       "<div>\n",
       "<style scoped>\n",
       "    .dataframe tbody tr th:only-of-type {\n",
       "        vertical-align: middle;\n",
       "    }\n",
       "\n",
       "    .dataframe tbody tr th {\n",
       "        vertical-align: top;\n",
       "    }\n",
       "\n",
       "    .dataframe thead th {\n",
       "        text-align: right;\n",
       "    }\n",
       "</style>\n",
       "<table border=\"1\" class=\"dataframe\">\n",
       "  <thead>\n",
       "    <tr style=\"text-align: right;\">\n",
       "      <th></th>\n",
       "      <th>Airline</th>\n",
       "      <th>Status</th>\n",
       "      <th>Los Angeles</th>\n",
       "      <th>Phoenix</th>\n",
       "      <th>San Diego</th>\n",
       "      <th>San Fransisco</th>\n",
       "      <th>Seattle</th>\n",
       "    </tr>\n",
       "  </thead>\n",
       "  <tbody>\n",
       "    <tr>\n",
       "      <th>0</th>\n",
       "      <td>Alaska</td>\n",
       "      <td>on time</td>\n",
       "      <td>497</td>\n",
       "      <td>221</td>\n",
       "      <td>212</td>\n",
       "      <td>503</td>\n",
       "      <td>1841</td>\n",
       "    </tr>\n",
       "    <tr>\n",
       "      <th>1</th>\n",
       "      <td>Alaska</td>\n",
       "      <td>delayed</td>\n",
       "      <td>62</td>\n",
       "      <td>12</td>\n",
       "      <td>20</td>\n",
       "      <td>102</td>\n",
       "      <td>305</td>\n",
       "    </tr>\n",
       "    <tr>\n",
       "      <th>2</th>\n",
       "      <td>AM West</td>\n",
       "      <td>on time</td>\n",
       "      <td>694</td>\n",
       "      <td>4840</td>\n",
       "      <td>383</td>\n",
       "      <td>320</td>\n",
       "      <td>201</td>\n",
       "    </tr>\n",
       "    <tr>\n",
       "      <th>3</th>\n",
       "      <td>AM West</td>\n",
       "      <td>delayed</td>\n",
       "      <td>117</td>\n",
       "      <td>415</td>\n",
       "      <td>65</td>\n",
       "      <td>129</td>\n",
       "      <td>61</td>\n",
       "    </tr>\n",
       "  </tbody>\n",
       "</table>\n",
       "</div>"
      ],
      "text/plain": [
       "   Airline   Status  Los Angeles  Phoenix  San Diego  San Fransisco  Seattle\n",
       "0   Alaska  on time          497      221        212            503     1841\n",
       "1   Alaska  delayed           62       12         20            102      305\n",
       "2  AM West  on time          694     4840        383            320      201\n",
       "3  AM West  delayed          117      415         65            129       61"
      ]
     },
     "execution_count": 11,
     "metadata": {},
     "output_type": "execute_result"
    }
   ],
   "source": [
    "flights_df = pd.read_csv(\"C:/Users/cscam/Project1.csv\")\n",
    "\n",
    "flights_df"
   ]
  },
  {
   "cell_type": "markdown",
   "id": "844dcb9c",
   "metadata": {},
   "source": [
    "We created a dataframe object named flights_df that now contains the data we need.\n",
    "Dataframes allow for multi-dimensional data in a structure similar to the rows and columns in a relational database.\n",
    "\n",
    "Now that we have the flights_df object, we can use various functions to perform analysis on the data.\n",
    "Let's start by getting the total flights for Alaska Airlines at each airport:"
   ]
  },
  {
   "cell_type": "code",
   "execution_count": 75,
   "id": "c2151422",
   "metadata": {},
   "outputs": [
    {
     "data": {
      "text/plain": [
       "Los Angeles       559\n",
       "Phoenix           233\n",
       "San Diego         232\n",
       "San Fransisco     605\n",
       "Seattle          2146\n",
       "dtype: int64"
      ]
     },
     "execution_count": 75,
     "metadata": {},
     "output_type": "execute_result"
    }
   ],
   "source": [
    "Alaska_total = flights_df[['Los Angeles','Phoenix','San Diego','San Fransisco','Seattle']][:2].sum()\n",
    "Alaska_total"
   ]
  },
  {
   "cell_type": "markdown",
   "id": "ab31fe62",
   "metadata": {},
   "source": [
    "And now the total for AM West:"
   ]
  },
  {
   "cell_type": "code",
   "execution_count": 77,
   "id": "e2430e73",
   "metadata": {},
   "outputs": [
    {
     "data": {
      "text/plain": [
       "Los Angeles       811\n",
       "Phoenix          5255\n",
       "San Diego         448\n",
       "San Fransisco     449\n",
       "Seattle           262\n",
       "dtype: int64"
      ]
     },
     "execution_count": 77,
     "metadata": {},
     "output_type": "execute_result"
    }
   ],
   "source": [
    "AM_total = flights_df[['Los Angeles','Phoenix','San Diego','San Fransisco','Seattle']][2:4].sum()\n",
    "AM_total"
   ]
  },
  {
   "cell_type": "markdown",
   "id": "fde733a5",
   "metadata": {},
   "source": [
    "Let's find out what percentage of flights by airline were delayed at each airport:"
   ]
  },
  {
   "cell_type": "code",
   "execution_count": 103,
   "id": "53a8dd86",
   "metadata": {},
   "outputs": [
    {
     "data": {
      "text/html": [
       "<div>\n",
       "<style scoped>\n",
       "    .dataframe tbody tr th:only-of-type {\n",
       "        vertical-align: middle;\n",
       "    }\n",
       "\n",
       "    .dataframe tbody tr th {\n",
       "        vertical-align: top;\n",
       "    }\n",
       "\n",
       "    .dataframe thead th {\n",
       "        text-align: right;\n",
       "    }\n",
       "</style>\n",
       "<table border=\"1\" class=\"dataframe\">\n",
       "  <thead>\n",
       "    <tr style=\"text-align: right;\">\n",
       "      <th></th>\n",
       "      <th>Los Angeles</th>\n",
       "      <th>Phoenix</th>\n",
       "      <th>San Diego</th>\n",
       "      <th>San Fransisco</th>\n",
       "      <th>Seattle</th>\n",
       "    </tr>\n",
       "  </thead>\n",
       "  <tbody>\n",
       "    <tr>\n",
       "      <th>1</th>\n",
       "      <td>0.110912</td>\n",
       "      <td>0.051502</td>\n",
       "      <td>0.086207</td>\n",
       "      <td>0.168595</td>\n",
       "      <td>0.142125</td>\n",
       "    </tr>\n",
       "  </tbody>\n",
       "</table>\n",
       "</div>"
      ],
      "text/plain": [
       "   Los Angeles   Phoenix  San Diego  San Fransisco   Seattle\n",
       "1     0.110912  0.051502   0.086207       0.168595  0.142125"
      ]
     },
     "execution_count": 103,
     "metadata": {},
     "output_type": "execute_result"
    }
   ],
   "source": [
    "Alaska_percent_delays = flights_df[['Los Angeles','Phoenix','San Diego','San Fransisco','Seattle']][1:2] / Alaska_total\n",
    "Alaska_percent_delays"
   ]
  },
  {
   "cell_type": "code",
   "execution_count": 102,
   "id": "1b73a9ca",
   "metadata": {},
   "outputs": [
    {
     "data": {
      "text/html": [
       "<div>\n",
       "<style scoped>\n",
       "    .dataframe tbody tr th:only-of-type {\n",
       "        vertical-align: middle;\n",
       "    }\n",
       "\n",
       "    .dataframe tbody tr th {\n",
       "        vertical-align: top;\n",
       "    }\n",
       "\n",
       "    .dataframe thead th {\n",
       "        text-align: right;\n",
       "    }\n",
       "</style>\n",
       "<table border=\"1\" class=\"dataframe\">\n",
       "  <thead>\n",
       "    <tr style=\"text-align: right;\">\n",
       "      <th></th>\n",
       "      <th>Los Angeles</th>\n",
       "      <th>Phoenix</th>\n",
       "      <th>San Diego</th>\n",
       "      <th>San Fransisco</th>\n",
       "      <th>Seattle</th>\n",
       "    </tr>\n",
       "  </thead>\n",
       "  <tbody>\n",
       "    <tr>\n",
       "      <th>3</th>\n",
       "      <td>0.144266</td>\n",
       "      <td>0.078972</td>\n",
       "      <td>0.145089</td>\n",
       "      <td>0.287305</td>\n",
       "      <td>0.232824</td>\n",
       "    </tr>\n",
       "  </tbody>\n",
       "</table>\n",
       "</div>"
      ],
      "text/plain": [
       "   Los Angeles   Phoenix  San Diego  San Fransisco   Seattle\n",
       "3     0.144266  0.078972   0.145089       0.287305  0.232824"
      ]
     },
     "execution_count": 102,
     "metadata": {},
     "output_type": "execute_result"
    }
   ],
   "source": [
    "AM_percent_delays = flights_df[['Los Angeles','Phoenix','San Diego','San Fransisco','Seattle']][3:4] / AM_total\n",
    "AM_percent_delays"
   ]
  },
  {
   "cell_type": "markdown",
   "id": "c1e34e0b",
   "metadata": {},
   "source": [
    "Alaska_percent_delays and AM_percent_delays are new dataframe objects created from the calculations done on flights_df.\n",
    "We can combine this information into a new dataframe to perform additional functional analysis:"
   ]
  },
  {
   "cell_type": "code",
   "execution_count": 112,
   "id": "3828a390",
   "metadata": {},
   "outputs": [
    {
     "data": {
      "text/html": [
       "<div>\n",
       "<style scoped>\n",
       "    .dataframe tbody tr th:only-of-type {\n",
       "        vertical-align: middle;\n",
       "    }\n",
       "\n",
       "    .dataframe tbody tr th {\n",
       "        vertical-align: top;\n",
       "    }\n",
       "\n",
       "    .dataframe thead th {\n",
       "        text-align: right;\n",
       "    }\n",
       "</style>\n",
       "<table border=\"1\" class=\"dataframe\">\n",
       "  <thead>\n",
       "    <tr style=\"text-align: right;\">\n",
       "      <th></th>\n",
       "      <th>Los Angeles</th>\n",
       "      <th>Phoenix</th>\n",
       "      <th>San Diego</th>\n",
       "      <th>San Fransisco</th>\n",
       "      <th>Seattle</th>\n",
       "    </tr>\n",
       "    <tr>\n",
       "      <th>Airline</th>\n",
       "      <th></th>\n",
       "      <th></th>\n",
       "      <th></th>\n",
       "      <th></th>\n",
       "      <th></th>\n",
       "    </tr>\n",
       "  </thead>\n",
       "  <tbody>\n",
       "    <tr>\n",
       "      <th>Alaska</th>\n",
       "      <td>0.110912</td>\n",
       "      <td>0.051502</td>\n",
       "      <td>0.086207</td>\n",
       "      <td>0.168595</td>\n",
       "      <td>0.142125</td>\n",
       "    </tr>\n",
       "    <tr>\n",
       "      <th>AM West</th>\n",
       "      <td>0.144266</td>\n",
       "      <td>0.078972</td>\n",
       "      <td>0.145089</td>\n",
       "      <td>0.287305</td>\n",
       "      <td>0.232824</td>\n",
       "    </tr>\n",
       "  </tbody>\n",
       "</table>\n",
       "</div>"
      ],
      "text/plain": [
       "         Los Angeles   Phoenix  San Diego  San Fransisco   Seattle\n",
       "Airline                                                           \n",
       "Alaska      0.110912  0.051502   0.086207       0.168595  0.142125\n",
       "AM West     0.144266  0.078972   0.145089       0.287305  0.232824"
      ]
     },
     "execution_count": 112,
     "metadata": {},
     "output_type": "execute_result"
    }
   ],
   "source": [
    "airlines = ['Alaska','AM West']\n",
    "new_df = pd.concat([Alaska_percent_delays, AM_percent_delays])\n",
    "new_df[\"Airline\"] = airlines\n",
    "new_df.set_index(\"Airline\")"
   ]
  },
  {
   "cell_type": "markdown",
   "id": "2b7a0c75",
   "metadata": {},
   "source": [
    "Now let's answer the following questions:\n",
    "\n",
    "Which airline had the lower percentage of delays?"
   ]
  },
  {
   "cell_type": "code",
   "execution_count": 114,
   "id": "22b0585f",
   "metadata": {},
   "outputs": [
    {
     "data": {
      "text/plain": [
       "'AM West'"
      ]
     },
     "execution_count": 114,
     "metadata": {},
     "output_type": "execute_result"
    }
   ],
   "source": [
    "new_df['Airline'].min()"
   ]
  },
  {
   "cell_type": "code",
   "execution_count": null,
   "id": "f105b1e9",
   "metadata": {},
   "outputs": [],
   "source": [
    "What was the average percentage of flight delays per airport?"
   ]
  },
  {
   "cell_type": "code",
   "execution_count": 129,
   "id": "43ed984d",
   "metadata": {},
   "outputs": [
    {
     "data": {
      "text/plain": [
       "Los Angeles      0.127589\n",
       "Phoenix          0.065237\n",
       "San Diego        0.115648\n",
       "San Fransisco    0.227950\n",
       "Seattle          0.187475\n",
       "dtype: float64"
      ]
     },
     "execution_count": 129,
     "metadata": {},
     "output_type": "execute_result"
    }
   ],
   "source": [
    "new_df[['Los Angeles','Phoenix','San Diego','San Fransisco','Seattle']].mean()"
   ]
  },
  {
   "cell_type": "markdown",
   "id": "f7e20156",
   "metadata": {},
   "source": [
    "This is a very simple overview, but it begins to demonstrate the powerof dataframe object for data analysis."
   ]
  }
 ],
 "metadata": {
  "kernelspec": {
   "display_name": "Python 3 (ipykernel)",
   "language": "python",
   "name": "python3"
  },
  "language_info": {
   "codemirror_mode": {
    "name": "ipython",
    "version": 3
   },
   "file_extension": ".py",
   "mimetype": "text/x-python",
   "name": "python",
   "nbconvert_exporter": "python",
   "pygments_lexer": "ipython3",
   "version": "3.9.13"
  }
 },
 "nbformat": 4,
 "nbformat_minor": 5
}
